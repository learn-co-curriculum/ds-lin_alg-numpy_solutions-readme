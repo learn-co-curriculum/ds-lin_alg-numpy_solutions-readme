{
 "cells": [
  {
   "cell_type": "markdown",
   "metadata": {},
   "source": [
    "# Solving systems of linear equations with `numpy`\n",
    "\n",
    "## Objectives\n",
    "\n",
    "* Understand and describe identity matrix and its role in linear equations.\n",
    "* Calculate Inverse of a matrix in order to solve linear problems.\n",
    "* Use the skills learned to solve a system of linear equations.\n",
    "\n",
    "## Introduction\n",
    "\n",
    "In this lesson, we shall see how to solve a system of linear equations using matrix algebra.  We shall learn about the identity matrix and inverse matrices, which have some unique properties which would be used for solution that we seek. We will discover how to create an identity matrix and also how to calculate the inverse of a matrix in python and Numpy. "
   ]
  },
  {
   "cell_type": "markdown",
   "metadata": {},
   "source": [
    "## Identity Matrix\n",
    "\n",
    "An identity matrix is a matrix whose product with another matrix M equals the same matrix M.\n",
    "\n",
    "The identity matrix is a square matrix which contains **1s** along the major diagonal (from the top left to the bottom right), while all its other entries are **0s**. Following images helps identify \"Major\" diagonal of a given matrix. \n",
    "![](https://www.tutorialride.com/images/c-array-programs/major-diagonal.jpeg)\n",
    "\n",
    "An identity matrix for above matrix, is thus containing all 1s along this diagnoal and 0s everywhere else as shown below:\n",
    "\n",
    "\n",
    "$$\n",
    "\\left(\\begin{array}{cc} \n",
    "1 & 0 & 0\\\\\n",
    "0 & 1 & 0\\\\\n",
    "0 & 0 & 1\n",
    "\\end{array}\\right)\n",
    "$$ \n",
    "\n",
    "This would be called a 3x3 Identity matrix. The `n×n` Identity matrix is ususally denoted by `In` - which is a matrix with n rows and n columns. Other examples include 2x2 , 4x4 Identity matrices etc. "
   ]
  },
  {
   "cell_type": "markdown",
   "metadata": {},
   "source": [
    "#### Dot-Product of Given Matrix and its Identity Matrix"
   ]
  },
  {
   "cell_type": "markdown",
   "metadata": {},
   "source": [
    "Let's try to multiply a matrix with its identity matrix and check the output. Let's start with the co-efficient matrix from our previous problem:\n",
    "\n",
    "$$\n",
    "\\left(\\begin{array}{cc} \n",
    "2 & 1\\\\\n",
    "3 & 4\n",
    "\\end{array}\\right)\n",
    "$$ \n",
    "\n",
    "Our identity matrix for this matrix would look like:\n",
    "$$\n",
    "I= \n",
    "\\left(\\begin{array}{cc} \n",
    "1 & 0\\\\\n",
    "0 & 1\n",
    "\\end{array}\\right)\n",
    "$$\n",
    "\n",
    "Let's take the dot-product for these two matrices as shown below:"
   ]
  },
  {
   "cell_type": "code",
   "execution_count": 40,
   "metadata": {},
   "outputs": [
    {
     "name": "stdout",
     "output_type": "stream",
     "text": [
      "[[2 1]\n",
      " [3 4]]\n",
      "\n",
      " [[2 1]\n",
      " [3 4]]\n"
     ]
    }
   ],
   "source": [
    "import numpy as np\n",
    "A = np.array([[2,1],[3,4]])\n",
    "I = np.array([[1,0],[0,1]])\n",
    "print(I.dot(A))\n",
    "print('\\n', A.dot(I))"
   ]
  },
  {
   "cell_type": "markdown",
   "metadata": {},
   "source": [
    "So we see that the dot-product of any matrix and the appropriate identity matrix is always the original matrix, regardless of the order in which the multiplication was performed! In other words, \n",
    "> **`A . I = I . A = A`**"
   ]
  },
  {
   "cell_type": "markdown",
   "metadata": {},
   "source": [
    "NumPy comes with a built-in function `np.identity()` for producing an identity matrix. Just pass it the dimension (numnber of rows or columns) as the argument. Optionally tell it to output elements as integers to keep the output as integers (It'll create a float based Identity matrix otherwise):"
   ]
  },
  {
   "cell_type": "code",
   "execution_count": 86,
   "metadata": {},
   "outputs": [
    {
     "data": {
      "text/plain": [
       "array([[1, 0, 0, 0],\n",
       "       [0, 1, 0, 0],\n",
       "       [0, 0, 1, 0],\n",
       "       [0, 0, 0, 1]])"
      ]
     },
     "execution_count": 86,
     "metadata": {},
     "output_type": "execute_result"
    }
   ],
   "source": [
    "np.identity(4, dtype=int)"
   ]
  },
  {
   "cell_type": "markdown",
   "metadata": {},
   "source": [
    "## Inverse Matrix"
   ]
  },
  {
   "cell_type": "markdown",
   "metadata": {},
   "source": [
    "The *Inverse* of a square matrix *A*, sometimes called a *reciprocal matrix*, is a matrix *A<sup>-1</sup>* such that\n",
    "\n",
    "> **A.A<sup>-1</sup>=I**\t\n",
    "\n",
    "where I is the Identity matrix. The inverse of a matrix is analogous to taking raciprocal of a number and multiplying by itself to get a 1, e.g. 5 * 5<sup>-1</sup> = 1. Let's see how to get inverse of a matrix in numpy. `numpy.linalg.inv(a)` takes in a matrix a and calculates its inverse as shown below."
   ]
  },
  {
   "cell_type": "code",
   "execution_count": 66,
   "metadata": {},
   "outputs": [
    {
     "name": "stdout",
     "output_type": "stream",
     "text": [
      "[[ 0.3 -0.1  0.2]\n",
      " [-0.3  0.1  0.8]\n",
      " [ 0.4  0.2 -2.4]]\n"
     ]
    }
   ],
   "source": [
    "A = np.array([[4,2,1],[4,8,3],[1,1,0]])\n",
    "A_inv = np.linalg.inv(A)\n",
    "print(A_inv)"
   ]
  },
  {
   "cell_type": "markdown",
   "metadata": {},
   "source": [
    "This is great. So according to the principle shown above, if we multiply A with A<sup>-1</sup>, we should get an identity matrix I in the output. "
   ]
  },
  {
   "cell_type": "code",
   "execution_count": 69,
   "metadata": {},
   "outputs": [
    {
     "data": {
      "text/plain": [
       "array([[ 1.00000000e+00, -2.77555756e-17,  0.00000000e+00],\n",
       "       [-1.66533454e-16,  1.00000000e+00,  0.00000000e+00],\n",
       "       [-5.55111512e-17, -1.38777878e-17,  1.00000000e+00]])"
      ]
     },
     "execution_count": 69,
     "metadata": {},
     "output_type": "execute_result"
    }
   ],
   "source": [
    "A_product = np.dot(A,A_inv)\n",
    "A_product"
   ]
  },
  {
   "cell_type": "markdown",
   "metadata": {},
   "source": [
    "Note that this was meant to return the identity matrix. We have all 1s along major diagonal but that the float operations returned not zeros but numbers very close to zero at other places. It is also trivial to think that a matrix of all zeros has no inverse (we need some 1s in the output). Numpy has a `np.matrix.round` function to convert each element of above matrix into a decimal form. "
   ]
  },
  {
   "cell_type": "code",
   "execution_count": 73,
   "metadata": {},
   "outputs": [
    {
     "data": {
      "text/plain": [
       "array([[ 1., -0.,  0.],\n",
       "       [-0.,  1.,  0.],\n",
       "       [-0., -0.,  1.]])"
      ]
     },
     "execution_count": 73,
     "metadata": {},
     "output_type": "execute_result"
    }
   ],
   "source": [
    "np.matrix.round(A_product)"
   ]
  },
  {
   "cell_type": "markdown",
   "metadata": {},
   "source": [
    "So this looks more like an identity matrix that we saw earlier. The negative signs remain after rounding off as the original small values were negative. This, however, wont effect computation in any way. "
   ]
  },
  {
   "cell_type": "markdown",
   "metadata": {},
   "source": [
    "#### Why Do We Need an Inverse?\n",
    "\n",
    "Because with matrices we don't divide! Seriously, there is no concept of dividing by a matrix. But we can multiply by an inverse, which achieves the same thing.\n",
    "\n",
    "Imagine we have a problem:  \"How do I share 10 apples with 2 people?\"\n",
    "\n",
    "We can divide 10 by 2 - OR - We can take the reciprocal of 2 (which is 0.5), so we answer:\n",
    "\n",
    "10 × 0.5 = 5 means They get 5 apples each.\n",
    "\n",
    "We use the very same idea here and this can be used to solve a system of linear equation in the apples and bananas problem we saw before. where: \n",
    "\n",
    "> **A  X = B** (where `A` is the matrix of co-efficients, `X` is the unknown variable and `B` is the output)"
   ]
  },
  {
   "cell_type": "markdown",
   "metadata": {},
   "source": [
    "Say we want to find matrix X, when we already know matrix A and B:\n",
    "\n",
    "It would've been great if we could divide both sides by A to get `X = B / A`, but remember we can't divide. We can achieve this if we multiply both sides by A<sup>-1</sup>, as shown below:\n",
    "\n",
    "> **X A A-1 = B A-1**\n",
    "\n",
    "From above , we that AA-1 = I, so:\n",
    "\n",
    "> **X I = B A-1**\n",
    "\n",
    "We can remove I (because multiplying with identity matrix doesn't change a matrix). so:\n",
    "\n",
    "> **X = B A-1 **\n",
    "\n",
    "And there we have it, our answer. "
   ]
  },
  {
   "cell_type": "markdown",
   "metadata": {},
   "source": [
    "### Solve a System of Equations with Matrix Algebra. \n",
    "\n",
    "Now that we know everything about converting a simple real world problem into matrix format, and steps to solve the problem, let's try it out with our apples and bananas problem. \n",
    "\n",
    "$$\n",
    "\\left(\\begin{array}{cc} \n",
    "2 & 1\\\\\n",
    "3 & 4\n",
    "\\end{array}\\right)\n",
    "\\left(\\begin{array}{cc} \n",
    "a\\\\ \n",
    "b\n",
    "\\end{array}\\right)\n",
    "=\n",
    "\\left(\\begin{array}{cc} \n",
    "35\\\\ \n",
    "65\n",
    "\\end{array}\\right)\n",
    "$$ "
   ]
  },
  {
   "cell_type": "markdown",
   "metadata": {},
   "source": [
    "So first we'll need to calculate the inverse of the square matrix containing coefficient values."
   ]
  },
  {
   "cell_type": "code",
   "execution_count": 112,
   "metadata": {},
   "outputs": [],
   "source": [
    "A = np.matrix([[2, 1], [3, 4]])\n",
    "B = np.matrix([35,65])"
   ]
  },
  {
   "cell_type": "code",
   "execution_count": 113,
   "metadata": {},
   "outputs": [
    {
     "data": {
      "text/plain": [
       "matrix([[ 0.8, -0.2],\n",
       "        [-0.6,  0.4]])"
      ]
     },
     "execution_count": 113,
     "metadata": {},
     "output_type": "execute_result"
    }
   ],
   "source": [
    "# Take the inverse of Matrix A \n",
    "A_inv = np.linalg.inv(A)\n",
    "A_inv"
   ]
  },
  {
   "cell_type": "markdown",
   "metadata": {},
   "source": [
    "We can now take a dot product of `A_inv` and `B`. Also, as we want the output in the vector format (containing one column and two rows), we would need to transpose the matrix `B` to satisfy the multiplication rule we saw in the previous lesson.\n",
    "\n",
    "> The product of an M x N matrix and an N x K matrix is an M x K matrix. The new matrix takes the rows of the 1st and columns of the 2nd\n"
   ]
  },
  {
   "cell_type": "code",
   "execution_count": 114,
   "metadata": {},
   "outputs": [
    {
     "name": "stdout",
     "output_type": "stream",
     "text": [
      "(1, 2)\n",
      "(2, 1)\n"
     ]
    },
    {
     "data": {
      "text/plain": [
       "matrix([[35],\n",
       "        [65]])"
      ]
     },
     "execution_count": 114,
     "metadata": {},
     "output_type": "execute_result"
    }
   ],
   "source": [
    "# Check the shape of B before after transposing\n",
    "print(B.shape)\n",
    "B = B.T\n",
    "print (B.shape)\n",
    "B"
   ]
  },
  {
   "cell_type": "code",
   "execution_count": 115,
   "metadata": {},
   "outputs": [
    {
     "data": {
      "text/plain": [
       "matrix([[15.],\n",
       "        [ 5.]])"
      ]
     },
     "execution_count": 115,
     "metadata": {},
     "output_type": "execute_result"
    }
   ],
   "source": [
    "X = A_inv.dot(B)\n",
    "X"
   ]
  },
  {
   "cell_type": "markdown",
   "metadata": {},
   "source": [
    "So there we have it, our answer. We can see that the prices of apples and bananas have been calculated as 15p / apple and 5p / banana, and these values satisfy both equations. the dot product of A and X should give us the matrix B. Let's try it "
   ]
  },
  {
   "cell_type": "code",
   "execution_count": 127,
   "metadata": {},
   "outputs": [
    {
     "data": {
      "text/plain": [
       "matrix([[35.],\n",
       "        [65.]])"
      ]
     },
     "execution_count": 127,
     "metadata": {},
     "output_type": "execute_result"
    }
   ],
   "source": [
    "A.dot(X) "
   ]
  },
  {
   "cell_type": "markdown",
   "metadata": {},
   "source": [
    "#### `numpy.linalg.solve()` to solve a system of linear equations\n",
    "\n",
    "Numpy has a built in function to solve such equations as `numpy.linalg.solve(a,b)` which takes in matrices in the correct orientation, and gives the answer by calculating the inverse. Here is how we use it. "
   ]
  },
  {
   "cell_type": "code",
   "execution_count": 117,
   "metadata": {},
   "outputs": [
    {
     "data": {
      "text/plain": [
       "matrix([[15.],\n",
       "        [ 5.]])"
      ]
     },
     "execution_count": 117,
     "metadata": {},
     "output_type": "execute_result"
    }
   ],
   "source": [
    "x = np.linalg.solve(A,B)\n",
    "x"
   ]
  },
  {
   "cell_type": "markdown",
   "metadata": {},
   "source": [
    "## Summary\n",
    "\n",
    "In this lesson, we saw how to calculate inverse of a matrix in order to solve a system of linear equations. We applied the skills learnt on the simple problem that we defined earlier. The result of our calculations helped us get unit values of variables that satisfy both equations. In the next lab, we shall go through some other similar problems. "
   ]
  }
 ],
 "metadata": {
  "kernelspec": {
   "display_name": "Python 3",
   "language": "python",
   "name": "python3"
  },
  "language_info": {
   "codemirror_mode": {
    "name": "ipython",
    "version": 3
   },
   "file_extension": ".py",
   "mimetype": "text/x-python",
   "name": "python",
   "nbconvert_exporter": "python",
   "pygments_lexer": "ipython3",
   "version": "3.6.4"
  }
 },
 "nbformat": 4,
 "nbformat_minor": 2
}
